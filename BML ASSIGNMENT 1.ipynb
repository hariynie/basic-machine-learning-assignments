{
 "cells": [
  {
   "cell_type": "code",
   "execution_count": 1,
   "id": "d7a47001",
   "metadata": {},
   "outputs": [],
   "source": [
    " import numpy as np\n",
    "import pandas as pd\n",
    "import matplotlib.pyplot as plt\n",
    "import seaborn as sb\n",
    "from sklearn import preprocessing\n",
    "from sklearn.model_selection import train_test_split"
   ]
  },
  {
   "cell_type": "code",
   "execution_count": null,
   "id": "3deb99c3",
   "metadata": {},
   "outputs": [],
   "source": [
    "data = pd.read_csv('EW-MAX.csv')\n",
    "data.drop('date',axis=1,inplace=True)\n",
    "data.drop('symbol',axis=1,inplace=True)\n",
    "print(data.head(10))\n",
    "data.head()\n"
   ]
  },
  {
   "cell_type": "code",
   "execution_count": 3,
   "id": "694871c0",
   "metadata": {},
   "outputs": [
    {
     "data": {
      "text/html": [
       "<div>\n",
       "<style scoped>\n",
       "    .dataframe tbody tr th:only-of-type {\n",
       "        vertical-align: middle;\n",
       "    }\n",
       "\n",
       "    .dataframe tbody tr th {\n",
       "        vertical-align: top;\n",
       "    }\n",
       "\n",
       "    .dataframe thead th {\n",
       "        text-align: right;\n",
       "    }\n",
       "</style>\n",
       "<table border=\"1\" class=\"dataframe\">\n",
       "  <thead>\n",
       "    <tr style=\"text-align: right;\">\n",
       "      <th></th>\n",
       "      <th>Date</th>\n",
       "      <th>Open</th>\n",
       "      <th>High</th>\n",
       "      <th>Low</th>\n",
       "      <th>Close</th>\n",
       "      <th>Adj_Close</th>\n",
       "      <th>Volume</th>\n",
       "    </tr>\n",
       "  </thead>\n",
       "  <tbody>\n",
       "    <tr>\n",
       "      <th>0</th>\n",
       "      <td>2000/3/27</td>\n",
       "      <td>3.812500</td>\n",
       "      <td>4.156250</td>\n",
       "      <td>3.812500</td>\n",
       "      <td>4.125000</td>\n",
       "      <td>4.125000</td>\n",
       "      <td>3675600</td>\n",
       "    </tr>\n",
       "    <tr>\n",
       "      <th>1</th>\n",
       "      <td>2000/3/28</td>\n",
       "      <td>4.125000</td>\n",
       "      <td>4.125000</td>\n",
       "      <td>4.000000</td>\n",
       "      <td>4.015625</td>\n",
       "      <td>4.015625</td>\n",
       "      <td>1077600</td>\n",
       "    </tr>\n",
       "    <tr>\n",
       "      <th>2</th>\n",
       "      <td>2000/3/29</td>\n",
       "      <td>4.000000</td>\n",
       "      <td>4.031250</td>\n",
       "      <td>3.953125</td>\n",
       "      <td>4.000000</td>\n",
       "      <td>4.000000</td>\n",
       "      <td>437200</td>\n",
       "    </tr>\n",
       "    <tr>\n",
       "      <th>3</th>\n",
       "      <td>2000/3/30</td>\n",
       "      <td>4.000000</td>\n",
       "      <td>4.000000</td>\n",
       "      <td>3.843750</td>\n",
       "      <td>3.843750</td>\n",
       "      <td>3.843750</td>\n",
       "      <td>1883600</td>\n",
       "    </tr>\n",
       "    <tr>\n",
       "      <th>4</th>\n",
       "      <td>2000/3/31</td>\n",
       "      <td>3.734375</td>\n",
       "      <td>3.734375</td>\n",
       "      <td>3.390625</td>\n",
       "      <td>3.390625</td>\n",
       "      <td>3.390625</td>\n",
       "      <td>7931600</td>\n",
       "    </tr>\n",
       "    <tr>\n",
       "      <th>...</th>\n",
       "      <td>...</td>\n",
       "      <td>...</td>\n",
       "      <td>...</td>\n",
       "      <td>...</td>\n",
       "      <td>...</td>\n",
       "      <td>...</td>\n",
       "      <td>...</td>\n",
       "    </tr>\n",
       "    <tr>\n",
       "      <th>4387</th>\n",
       "      <td>2017/9/1</td>\n",
       "      <td>113.790001</td>\n",
       "      <td>114.099998</td>\n",
       "      <td>112.790001</td>\n",
       "      <td>113.309998</td>\n",
       "      <td>113.309998</td>\n",
       "      <td>950000</td>\n",
       "    </tr>\n",
       "    <tr>\n",
       "      <th>4388</th>\n",
       "      <td>2017/9/5</td>\n",
       "      <td>112.519997</td>\n",
       "      <td>113.529999</td>\n",
       "      <td>111.160004</td>\n",
       "      <td>111.870003</td>\n",
       "      <td>111.870003</td>\n",
       "      <td>1805200</td>\n",
       "    </tr>\n",
       "    <tr>\n",
       "      <th>4389</th>\n",
       "      <td>2017/9/6</td>\n",
       "      <td>112.029999</td>\n",
       "      <td>112.489998</td>\n",
       "      <td>110.250000</td>\n",
       "      <td>112.230003</td>\n",
       "      <td>112.230003</td>\n",
       "      <td>2136700</td>\n",
       "    </tr>\n",
       "    <tr>\n",
       "      <th>4390</th>\n",
       "      <td>2017/9/7</td>\n",
       "      <td>112.459999</td>\n",
       "      <td>112.900002</td>\n",
       "      <td>112.000000</td>\n",
       "      <td>112.339996</td>\n",
       "      <td>112.339996</td>\n",
       "      <td>1251600</td>\n",
       "    </tr>\n",
       "    <tr>\n",
       "      <th>4391</th>\n",
       "      <td>2017/9/8</td>\n",
       "      <td>112.300003</td>\n",
       "      <td>114.790001</td>\n",
       "      <td>112.010002</td>\n",
       "      <td>113.190002</td>\n",
       "      <td>113.190002</td>\n",
       "      <td>1611700</td>\n",
       "    </tr>\n",
       "  </tbody>\n",
       "</table>\n",
       "<p>4392 rows × 7 columns</p>\n",
       "</div>"
      ],
      "text/plain": [
       "           Date        Open        High         Low       Close   Adj_Close  \\\n",
       "0     2000/3/27    3.812500    4.156250    3.812500    4.125000    4.125000   \n",
       "1     2000/3/28    4.125000    4.125000    4.000000    4.015625    4.015625   \n",
       "2     2000/3/29    4.000000    4.031250    3.953125    4.000000    4.000000   \n",
       "3     2000/3/30    4.000000    4.000000    3.843750    3.843750    3.843750   \n",
       "4     2000/3/31    3.734375    3.734375    3.390625    3.390625    3.390625   \n",
       "...         ...         ...         ...         ...         ...         ...   \n",
       "4387   2017/9/1  113.790001  114.099998  112.790001  113.309998  113.309998   \n",
       "4388   2017/9/5  112.519997  113.529999  111.160004  111.870003  111.870003   \n",
       "4389   2017/9/6  112.029999  112.489998  110.250000  112.230003  112.230003   \n",
       "4390   2017/9/7  112.459999  112.900002  112.000000  112.339996  112.339996   \n",
       "4391   2017/9/8  112.300003  114.790001  112.010002  113.190002  113.190002   \n",
       "\n",
       "       Volume  \n",
       "0     3675600  \n",
       "1     1077600  \n",
       "2      437200  \n",
       "3     1883600  \n",
       "4     7931600  \n",
       "...       ...  \n",
       "4387   950000  \n",
       "4388  1805200  \n",
       "4389  2136700  \n",
       "4390  1251600  \n",
       "4391  1611700  \n",
       "\n",
       "[4392 rows x 7 columns]"
      ]
     },
     "execution_count": 3,
     "metadata": {},
     "output_type": "execute_result"
    }
   ],
   "source": [
    "data"
   ]
  },
  {
   "cell_type": "code",
   "execution_count": 6,
   "id": "c6d745b8",
   "metadata": {},
   "outputs": [
    {
     "name": "stdout",
     "output_type": "stream",
     "text": [
      "              Open         High          Low        Close    Adj_Close  \\\n",
      "count  4392.000000  4392.000000  4392.000000  4392.000000  4392.000000   \n",
      "mean     30.562539    30.893618    30.238833    30.572580    30.572580   \n",
      "std      29.914758    30.210974    29.615761    29.905778    29.905778   \n",
      "min       3.296875     3.390625     3.000000     3.250000     3.250000   \n",
      "25%       8.718125     8.803125     8.625000     8.712500     8.712500   \n",
      "50%      14.766250    14.981250    14.662500    14.767500    14.767500   \n",
      "75%      42.546248    43.051249    42.086249    42.539999    42.539999   \n",
      "max     121.080002   121.750000   120.169998   121.360001   121.360001   \n",
      "\n",
      "             Volume  \n",
      "count  4.392000e+03  \n",
      "mean   1.884027e+06  \n",
      "std    1.621609e+06  \n",
      "min    1.904000e+05  \n",
      "25%    1.088800e+06  \n",
      "50%    1.539300e+06  \n",
      "75%    2.188900e+06  \n",
      "max    4.641260e+07  \n"
     ]
    }
   ],
   "source": [
    "print(data.describe())\n"
   ]
  },
  {
   "cell_type": "code",
   "execution_count": 7,
   "id": "eb05da89",
   "metadata": {},
   "outputs": [
    {
     "name": "stdout",
     "output_type": "stream",
     "text": [
      "<class 'pandas.core.frame.DataFrame'>\n",
      "RangeIndex: 4392 entries, 0 to 4391\n",
      "Data columns (total 7 columns):\n",
      " #   Column     Non-Null Count  Dtype  \n",
      "---  ------     --------------  -----  \n",
      " 0   Date       4392 non-null   object \n",
      " 1   Open       4392 non-null   float64\n",
      " 2   High       4392 non-null   float64\n",
      " 3   Low        4392 non-null   float64\n",
      " 4   Close      4392 non-null   float64\n",
      " 5   Adj_Close  4392 non-null   float64\n",
      " 6   Volume     4392 non-null   int64  \n",
      "dtypes: float64(5), int64(1), object(1)\n",
      "memory usage: 240.3+ KB\n",
      "None\n"
     ]
    }
   ],
   "source": [
    "print(data.info())\n"
   ]
  },
  {
   "cell_type": "code",
   "execution_count": 9,
   "id": "7f511b22",
   "metadata": {},
   "outputs": [
    {
     "name": "stdout",
     "output_type": "stream",
     "text": [
      "              Open         High          Low        Close    Adj_Close  \\\n",
      "count  4392.000000  4392.000000  4392.000000  4392.000000  4392.000000   \n",
      "mean     30.562539    30.893618    30.238833    30.572580    30.572580   \n",
      "std      29.914758    30.210974    29.615761    29.905778    29.905778   \n",
      "min       3.296875     3.390625     3.000000     3.250000     3.250000   \n",
      "25%       8.718125     8.803125     8.625000     8.712500     8.712500   \n",
      "50%      14.766250    14.981250    14.662500    14.767500    14.767500   \n",
      "75%      42.546248    43.051249    42.086249    42.539999    42.539999   \n",
      "max     121.080002   121.750000   120.169998   121.360001   121.360001   \n",
      "\n",
      "             Volume  \n",
      "count  4.392000e+03  \n",
      "mean   1.884027e+06  \n",
      "std    1.621609e+06  \n",
      "min    1.904000e+05  \n",
      "25%    1.088800e+06  \n",
      "50%    1.539300e+06  \n",
      "75%    2.188900e+06  \n",
      "max    4.641260e+07  \n"
     ]
    }
   ],
   "source": [
    "\n",
    "print(data.describe())\n"
   ]
  },
  {
   "cell_type": "code",
   "execution_count": 10,
   "id": "32608dfc",
   "metadata": {},
   "outputs": [
    {
     "name": "stdout",
     "output_type": "stream",
     "text": [
      "<class 'pandas.core.frame.DataFrame'>\n",
      "RangeIndex: 4392 entries, 0 to 4391\n",
      "Data columns (total 7 columns):\n",
      " #   Column     Non-Null Count  Dtype  \n",
      "---  ------     --------------  -----  \n",
      " 0   Date       4392 non-null   object \n",
      " 1   Open       4392 non-null   float64\n",
      " 2   High       4392 non-null   float64\n",
      " 3   Low        4392 non-null   float64\n",
      " 4   Close      4392 non-null   float64\n",
      " 5   Adj_Close  4392 non-null   float64\n",
      " 6   Volume     4392 non-null   int64  \n",
      "dtypes: float64(5), int64(1), object(1)\n",
      "memory usage: 240.3+ KB\n",
      "None\n"
     ]
    }
   ],
   "source": [
    "print(data.info())"
   ]
  },
  {
   "cell_type": "code",
   "execution_count": 28,
   "id": "30b1665f",
   "metadata": {},
   "outputs": [
    {
     "name": "stdout",
     "output_type": "stream",
     "text": [
      "           Open  High  Low  Close  Adj_Close  Volume\n",
      "Open        1.0   1.0  1.0    1.0        1.0    -1.0\n",
      "High        1.0   1.0  1.0    1.0        1.0    -1.0\n",
      "Low         1.0   1.0  1.0    1.0        1.0    -1.0\n",
      "Close       1.0   1.0  1.0    1.0        1.0    -1.0\n",
      "Adj_Close   1.0   1.0  1.0    1.0        1.0    -1.0\n"
     ]
    }
   ],
   "source": [
    "data.dropna(inplace=True)\n",
    "data.fillna(-9999,inplace=True)\n",
    "data['High'] = data['High'].fillna(data['High'].mean())\n",
    "print(data.head())\n"
   ]
  },
  {
   "cell_type": "code",
   "execution_count": 13,
   "id": "be1cc53c",
   "metadata": {},
   "outputs": [
    {
     "name": "stdout",
     "output_type": "stream",
     "text": [
      "        Date      Open      High       Low     Close  Adj_Close    Volume\n",
      "0  2000/3/27  3.812500  4.156250  3.812500  4.125000   4.125000   3675600\n",
      "1  2000/3/28  4.125000  4.125000  4.000000  4.015625   4.015625   1077600\n",
      "2  2000/3/29  4.000000  4.031250  3.953125  4.000000   4.000000    437200\n",
      "3  2000/3/30  4.000000  4.000000  3.843750  3.843750   3.843750   1883600\n",
      "4  2000/3/31  3.734375  3.734375  3.390625  3.390625   3.390625   7931600\n",
      "5   2000/4/3  3.500000  3.703125  3.437500  3.437500   3.437500  11486800\n",
      "6   2000/4/4  3.531250  3.578125  3.093750  3.500000   3.500000  13136800\n",
      "7   2000/4/5  3.468750  3.562500  3.453125  3.484375   3.484375   6349600\n",
      "8   2000/4/6  3.500000  3.593750  3.468750  3.578125   3.578125   7181200\n",
      "9   2000/4/7  3.593750  3.812500  3.593750  3.609375   3.609375  13904800\n"
     ]
    }
   ],
   "source": [
    "#fill the value by fillna()\n",
    "data.dropna(inplace=True)\n",
    "data.fillna(9999,inplace=True)\n",
    "print(data.head(10))\n"
   ]
  },
  {
   "cell_type": "code",
   "execution_count": 27,
   "id": "452a43d2",
   "metadata": {},
   "outputs": [
    {
     "name": "stdout",
     "output_type": "stream",
     "text": [
      "           Open  High  Low  Close  Adj_Close  Volume\n",
      "Open        1.0   1.0  1.0    1.0        1.0    -1.0\n",
      "High        1.0   1.0  1.0    1.0        1.0    -1.0\n",
      "Low         1.0   1.0  1.0    1.0        1.0    -1.0\n",
      "Close       1.0   1.0  1.0    1.0        1.0    -1.0\n",
      "Adj_Close   1.0   1.0  1.0    1.0        1.0    -1.0\n"
     ]
    }
   ],
   "source": [
    "#fill the value with mean\n",
    "data['High'] = data['High'].fillna(data['High'].mean())\n",
    "print(data.head())"
   ]
  },
  {
   "cell_type": "code",
   "execution_count": 15,
   "id": "6f907c46",
   "metadata": {},
   "outputs": [
    {
     "data": {
      "image/png": "[encoded data removed]",
      "text/plain": [
       "<Figure size 432x288 with 6 Axes>"
      ]
     },
     "metadata": {
      "needs_background": "light"
     },
     "output_type": "display_data"
    }
   ],
   "source": [
    "data.hist()\n",
    "plt.show()"
   ]
  },
  {
   "cell_type": "code",
   "execution_count": 25,
   "id": "7da3b33d",
   "metadata": {},
   "outputs": [
    {
     "data": {
      "image/png": "[encoded data removed]",
      "text/plain": [
       "<Figure size 432x288 with 1 Axes>"
      ]
     },
     "metadata": {
      "needs_background": "light"
     },
     "output_type": "display_data"
    }
   ],
   "source": [
    "plt.scatter(data.Close,data.Open,color=\"blue\")\n",
    "plt.show()"
   ]
  },
  {
   "cell_type": "code",
   "execution_count": 26,
   "id": "bc5e818c",
   "metadata": {},
   "outputs": [
    {
     "name": "stdout",
     "output_type": "stream",
     "text": [
      "Volume       0.048770\n",
      "Close        0.999806\n",
      "Adj_Close    0.999806\n",
      "Low          0.999899\n",
      "High         0.999907\n",
      "Open         1.000000\n",
      "Name: Open, dtype: float64\n"
     ]
    }
   ],
   "source": [
    "data=data.corr()\n",
    "print(cor['Open'].sort_values(ascending=True))"
   ]
  },
  {
   "cell_type": "code",
   "execution_count": 24,
   "id": "5e185c54",
   "metadata": {},
   "outputs": [
    {
     "data": {
      "image/png": "[encoded data removed]",
      "text/plain": [
       "<Figure size 432x288 with 1 Axes>"
      ]
     },
     "metadata": {
      "needs_background": "light"
     },
     "output_type": "display_data"
    }
   ],
   "source": [
    "plt.scatter(data.Close,data.Open,color=\"blue\")\n",
    "plt.show()\n"
   ]
  },
  {
   "cell_type": "code",
   "execution_count": 29,
   "id": "f8e2a945",
   "metadata": {},
   "outputs": [
    {
     "name": "stdout",
     "output_type": "stream",
     "text": [
      "Volume      -1.0\n",
      "Open         1.0\n",
      "High         1.0\n",
      "Low          1.0\n",
      "Close        1.0\n",
      "Adj_Close    1.0\n",
      "Name: Open, dtype: float64\n"
     ]
    }
   ],
   "source": [
    "#to find the correlation value for each column\n",
    "cor =data.corr()\n",
    "print(cor['Open'].sort_values(ascending=True))\n",
    "\n"
   ]
  },
  {
   "cell_type": "code",
   "execution_count": 30,
   "id": "635eb154",
   "metadata": {},
   "outputs": [
    {
     "name": "stdout",
     "output_type": "stream",
     "text": [
      "           Open  High  Low  Close  Adj_Close  Volume  label\n",
      "Open        1.0   1.0  1.0    1.0        1.0    -1.0    NaN\n",
      "High        1.0   1.0  1.0    1.0        1.0    -1.0    NaN\n",
      "Low         1.0   1.0  1.0    1.0        1.0    -1.0    NaN\n",
      "Close       1.0   1.0  1.0    1.0        1.0    -1.0    NaN\n",
      "Adj_Close   1.0   1.0  1.0    1.0        1.0    -1.0    NaN\n"
     ]
    }
   ],
   "source": [
    "forecast =10\n",
    "data['label']=data['Open'].shift(-forecast)\n",
    "print(data.head())\n"
   ]
  },
  {
   "cell_type": "code",
   "execution_count": 31,
   "id": "1b93af71",
   "metadata": {},
   "outputs": [
    {
     "name": "stdout",
     "output_type": "stream",
     "text": [
      "           Open  High  Low  Close  Adj_Close  Volume  label\n",
      "Open        1.0   1.0  1.0    1.0        1.0    -1.0    NaN\n",
      "High        1.0   1.0  1.0    1.0        1.0    -1.0    NaN\n",
      "Low         1.0   1.0  1.0    1.0        1.0    -1.0    NaN\n",
      "Close       1.0   1.0  1.0    1.0        1.0    -1.0    NaN\n",
      "Adj_Close   1.0   1.0  1.0    1.0        1.0    -1.0    NaN\n",
      "5\n",
      "1\n"
     ]
    },
    {
     "name": "stderr",
     "output_type": "stream",
     "text": [
      "C:\\Users\\Hp\\AppData\\Local\\Temp\\ipykernel_18360\\1826703088.py:4: FutureWarning: In a future version of pandas all arguments of DataFrame.drop except for the argument 'labels' will be keyword-only.\n",
      "  x =np.array(data.drop(['label'],1))\n"
     ]
    }
   ],
   "source": [
    "forecast =10\n",
    "data['label']=data['Open'].shift(-forecast)\n",
    "print(data.head())\n",
    "x =np.array(data.drop(['label'],1))\n",
    "y = np.array(data['label'])\n",
    "x =preprocessing.scale(x)\n",
    "#print(x)\n",
    "#print(y)\n",
    "x_train,x_test,y_train,y_test = train_test_split(x,y,test_size=0.15,random_state=4)\n",
    "print(len(x_train))\n",
    "print(len(x_test))\n"
   ]
  },
  {
   "cell_type": "code",
   "execution_count": null,
   "id": "6e9c3758",
   "metadata": {},
   "outputs": [],
   "source": []
  }
 ],
 "metadata": {
  "kernelspec": {
   "display_name": "Python 3 (ipykernel)",
   "language": "python",
   "name": "python3"
  },
  "language_info": {
   "codemirror_mode": {
    "name": "ipython",
    "version": 3
   },
   "file_extension": ".py",
   "mimetype": "text/x-python",
   "name": "python",
   "nbconvert_exporter": "python",
   "pygments_lexer": "ipython3",
   "version": "3.9.12"
  }
 },
 "nbformat": 4,
 "nbformat_minor": 5
}
